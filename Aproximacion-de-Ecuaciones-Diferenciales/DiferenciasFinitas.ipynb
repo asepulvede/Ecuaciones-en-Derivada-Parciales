{
  "nbformat": 4,
  "nbformat_minor": 0,
  "metadata": {
    "colab": {
      "provenance": [],
      "collapsed_sections": []
    },
    "kernelspec": {
      "name": "python3",
      "display_name": "Python 3"
    },
    "language_info": {
      "name": "python"
    }
  },
  "cells": [
    {
      "cell_type": "markdown",
      "source": [
        "#Adam Moulton\n",
        "Método diferencia finitas centradas para aproximación numérica de ecuaciones diferenciales "
      ],
      "metadata": {
        "id": "24O81SPA1Rl7"
      }
    },
    {
      "cell_type": "code",
      "execution_count": 22,
      "metadata": {
        "id": "pzpUEQPt6XUL"
      },
      "outputs": [],
      "source": [
        "import math\n",
        "from math import cos, sin, e, log\n",
        "import numpy as np\n",
        "import pandas as pd\n",
        "import sympy as sp\n",
        "from sympy import * \n",
        "import matplotlib.pyplot as plt\n",
        "import scipy as sip\n",
        "from scipy import integrate\n",
        "from scipy.sparse import spdiags"
      ]
    },
    {
      "cell_type": "markdown",
      "source": [
        "**Sistema de Ecuaciones**\n",
        "$\\left\\{ \\begin{array}{lcc}\n",
        "             y_1'= 9y_1+24y_2+5cost-\\frac{1}{3}sint & t\\in [0,1] \n",
        "             \\\\ y_2'= -24y_1-51y_2-9cost+\\frac{1}{3}sint & t \\in [0,1] \n",
        "             \\\\ y_1(0)= \\frac{4}{3}, \\;\\;\\; y_2(0)=\\frac{2}{3} \n",
        "             \\end{array}\n",
        "   \\right.$"
      ],
      "metadata": {
        "id": "r-QRk3IS6bVO"
      }
    },
    {
      "cell_type": "code",
      "source": [
        "##Sistema de ecuaciones\n",
        "def function1(t, y1, y2):\n",
        "  return 9*y1+24*y2+5*cos(t)-1/3*sin(t)\n",
        "def function2(t, y1, y2):\n",
        "  return -24*y1-51*y2-9*cos(t)+1/3*sin(t)"
      ],
      "metadata": {
        "id": "e2SEyBJr6ZNQ"
      },
      "execution_count": 23,
      "outputs": []
    },
    {
      "cell_type": "markdown",
      "source": [
        "**Solución al PVI** $\\left\\{ \\begin{array}{lcc}\n",
        "             y_1 = 2e^{-3t}-e^{-39t}+\\frac{1}{3}cos(t) & t\\in [0,1] \n",
        "             \\\\ y_2= -e^{-3t}+2e^{-39t}-\\frac{1}{3}cos(t) & t \\in [0,1] \n",
        "             \\end{array}\n",
        "   \\right.$"
      ],
      "metadata": {
        "id": "VNqH9Or3sak2"
      }
    },
    {
      "cell_type": "code",
      "source": [
        "#Soluciones\n",
        "def sol1(t):\n",
        "  return 2*e**(-3*t)-e**(-39*t)+(1/3)*cos(t)\n",
        "def sol2(t):\n",
        "  return (-1)*e**(-3*t)+2*e**(-39*t)-(1/3)*cos(t)\n",
        "def sol3(x,ep):\n",
        "  return 1+x+(e**(x/ep)-1)/(e**(1/ep)-1)"
      ],
      "metadata": {
        "id": "pHAmcbak6hD_"
      },
      "execution_count": 5,
      "outputs": []
    },
    {
      "cell_type": "markdown",
      "source": [
        "![image.png](data:image/png;base64,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)"
      ],
      "metadata": {
        "id": "-UGZmrjo_4So"
      }
    },
    {
      "cell_type": "code",
      "source": [
        "##DIFERENCIAS FINITAS EDO\n",
        "def DFinitas(a,b,u0,un,ep,M):\n",
        "  h=(b-a)/M\n",
        "  X=np.zeros(M+1)\n",
        "  A=np.zeros((M-1,M-1))\n",
        "  c=np.zeros(M-1)\n",
        "  d=np.zeros(M-1)\n",
        "  de=np.zeros(M-2)\n",
        "  db=np.zeros(M-2)\n",
        "  ljj= -2\n",
        "  ljj_1= 1-(h/(2*ep)) \n",
        "  lj1j= 1+(h/(2*ep))\n",
        "  fj= -(h**2/ep)\n",
        "  X[0]=a\n",
        "  c[0]= fj-lj1j\n",
        "  c[M-2]=fj-un*ljj_1\n",
        "  c[1:M-2]= fj\n",
        "  U=np.zeros(M+1)\n",
        "  U[0]=u0\n",
        "  U[M]=un\n",
        "\n",
        "  for i in range(M-1):\n",
        "    d[i]= ljj\n",
        "  for j in range(M-2):\n",
        "    de[j]= ljj_1\n",
        "    db[j]= lj1j\n",
        "  for i in range(M):\n",
        "    X[i+1]= X[i]+h\n",
        "\n",
        "  Error = np.zeros(M+1)\n",
        "  Datos = []\n",
        "  matriz= np.diag(d) + np.diag(de, 1) + np.diag(db, -1)\n",
        "  d= np.linalg.solve(matriz,c)\n",
        "  for i in range(M-1):\n",
        "    U[i+1]=d[i]\n",
        "  for i in range(M+1):\n",
        "    Error[i] = abs(U[i]-sol3(X[i],ep))\n",
        "    Datos.append([X[i],U[i],Error[i], sol3(X[i],ep)])\n",
        "  Datos = pd.DataFrame(Datos).set_axis(['X','U aprox','Error', 'U'], axis=1)\n",
        "  return X, U"
      ],
      "metadata": {
        "id": "Qp7lHKSG_m2U"
      },
      "execution_count": 63,
      "outputs": []
    },
    {
      "cell_type": "code",
      "source": [
        "#Gráficar\n",
        "\n",
        "#Solución real:\n",
        "\n",
        "x = np.linspace(0,1,1000)\n",
        "yreal = np.zeros(len(x))\n",
        "Xp, Y1p= DFinitas(0,1,1,3,0.1,4)\n",
        "Xs, Y1s= DFinitas(0,1,1,3,0.1,4)\n",
        "Xt, Y1t= DFinitas(0,1,1,3,0.1,8)\n",
        "Xc, Y1c= DFinitas(0,1,1,3,0.1,16)\n",
        "Xq, Y1q = DFinitas(0,1,1,3,0.1,32)\n",
        "Xo, Y1o= DFinitas(0,1,1,3,0.1,64)\n",
        "\n",
        "for i in range(len(x)):\n",
        "  yreal[i] = sol3(x[i],0.1)\n",
        "\n",
        "fig = plt.figure()\n",
        "ax = fig.add_subplot(1, 1, 1)\n",
        "\n",
        "\n",
        "# plot the function\n",
        "plt.plot(x,yreal, 'C1')\n",
        "plt.xlabel('x')\n",
        "plt.ylabel('u')\n",
        "plt.plot(Xp,Y1p, 'r')\n",
        "plt.plot(Xs,Y1s, 'm')\n",
        "plt.plot(Xt,Y1t, 'b')\n",
        "plt.plot(Xc,Y1c, 'c')\n",
        "plt.plot(Xq,Y1q, 'C6')\n",
        "plt.plot(Xo,Y1o, 'k')\n",
        "plt.ylim(top = 3, bottom = -2)\n",
        "plt.legend([\"Real\", \"h = \"+ str(2**(-1)), \"h = \"+ str(2**(-2)), \"h = \"+ str(2**(-3)), \"h = \"+ str(2**(-4)),\"h = \"+ str(2**(-5)) ,\"h = \"+ str(2**(-5))], loc =\"lower left\")\n",
        "  \n",
        "\n",
        "plt.show()"
      ],
      "metadata": {
        "colab": {
          "base_uri": "https://localhost:8080/",
          "height": 283
        },
        "id": "Tbqb2ZT8ru45",
        "outputId": "8511a10d-8a16-4b96-820d-478a0f9d6343"
      },
      "execution_count": 65,
      "outputs": [
        {
          "output_type": "display_data",
          "data": {
            "text/plain": [
              "<Figure size 432x288 with 1 Axes>"
            ],
            "image/png": "[encoded data removed]"
          },
          "metadata": {
            "needs_background": "light"
          }
        }
      ]
    },
    {
      "cell_type": "code",
      "source": [
        "def errorDiff(a,b,u0,un,ep,M):\n",
        "  X, U = DFinitas(a,b,u0,un,ep,M)\n",
        "  h=(b-a)/M\n",
        "  error = 0\n",
        "  for i in range(1,M+1):\n",
        "    l1i = lambda x: U[i-1]+((x-X[i-1])/h)*(U[i]-U[i-1])\n",
        "    integrando = lambda x: (sol3(x,ep)-l1i(x))**2\n",
        "    integral= integrate.quad(integrando, X[i-1], X[i])\n",
        "    \n",
        "    error = error + integral[0]\n",
        "  error = sqrt(error)\n",
        "  return error"
      ],
      "metadata": {
        "id": "GH2y9_-ZrvT3"
      },
      "execution_count": 67,
      "outputs": []
    },
    {
      "cell_type": "code",
      "source": [
        "def alpha():\n",
        "  Errorh = np.zeros(6)\n",
        "  hs = np.zeros(6)\n",
        "  alphas = np.zeros(6)\n",
        "  Datos = []\n",
        "  M = 2\n",
        "  Errorh[0] = errorDiff(0,1,1,3,0.1,M)\n",
        "  hs[0] = 1/M\n",
        "  Datos.append([hs[0],Errorh[0],nan])\n",
        "  for i in range(1,6):\n",
        "    M=M*2\n",
        "    h = 1/M\n",
        "    Errorh[i] = errorDiff(0,1,1,3,0.1,M)\n",
        "    hs[i] = h\n",
        "    alphas[i] = log(Errorh[i]/Errorh[i-1])/log(hs[i]/hs[i-1])\n",
        "    Datos.append([hs[i],Errorh[i],alphas[i]])\n",
        "  Datos = pd.DataFrame(Datos).set_axis(['h','Eh','alpha'], axis=1) \n",
        "  return Datos,Errorh, hs"
      ],
      "metadata": {
        "id": "OV182rndvs8F"
      },
      "execution_count": 69,
      "outputs": []
    },
    {
      "cell_type": "code",
      "source": [
        "Datos, errorh, hs = alpha()\n",
        "Datos"
      ],
      "metadata": {
        "colab": {
          "base_uri": "https://localhost:8080/",
          "height": 238
        },
        "id": "ILuQcoyBxaFv",
        "outputId": "60cfe165-e68c-488e-a08a-1402b877a984"
      },
      "execution_count": 70,
      "outputs": [
        {
          "output_type": "execute_result",
          "data": {
            "text/plain": [
              "          h        Eh     alpha\n",
              "0  0.500000  1.349675       nan\n",
              "1  0.250000  0.083071  4.022119\n",
              "2  0.125000  0.023282  1.835131\n",
              "3  0.062500  0.006018  1.951903\n",
              "4  0.031250  0.001518  1.987448\n",
              "5  0.015625  0.000380  1.996827"
            ],
            "text/html": [
              "\n",
              "  <div id=\"df-e6a5ce5d-ddc7-473d-ac56-26d9a7a80ab7\">\n",
              "    <div class=\"colab-df-container\">\n",
              "      <div>\n",
              "<style scoped>\n",
              "    .dataframe tbody tr th:only-of-type {\n",
              "        vertical-align: middle;\n",
              "    }\n",
              "\n",
              "    .dataframe tbody tr th {\n",
              "        vertical-align: top;\n",
              "    }\n",
              "\n",
              "    .dataframe thead th {\n",
              "        text-align: right;\n",
              "    }\n",
              "</style>\n",
              "<table border=\"1\" class=\"dataframe\">\n",
              "  <thead>\n",
              "    <tr style=\"text-align: right;\">\n",
              "      <th></th>\n",
              "      <th>h</th>\n",
              "      <th>Eh</th>\n",
              "      <th>alpha</th>\n",
              "    </tr>\n",
              "  </thead>\n",
              "  <tbody>\n",
              "    <tr>\n",
              "      <th>0</th>\n",
              "      <td>0.500000</td>\n",
              "      <td>1.349675</td>\n",
              "      <td>nan</td>\n",
              "    </tr>\n",
              "    <tr>\n",
              "      <th>1</th>\n",
              "      <td>0.250000</td>\n",
              "      <td>0.083071</td>\n",
              "      <td>4.022119</td>\n",
              "    </tr>\n",
              "    <tr>\n",
              "      <th>2</th>\n",
              "      <td>0.125000</td>\n",
              "      <td>0.023282</td>\n",
              "      <td>1.835131</td>\n",
              "    </tr>\n",
              "    <tr>\n",
              "      <th>3</th>\n",
              "      <td>0.062500</td>\n",
              "      <td>0.006018</td>\n",
              "      <td>1.951903</td>\n",
              "    </tr>\n",
              "    <tr>\n",
              "      <th>4</th>\n",
              "      <td>0.031250</td>\n",
              "      <td>0.001518</td>\n",
              "      <td>1.987448</td>\n",
              "    </tr>\n",
              "    <tr>\n",
              "      <th>5</th>\n",
              "      <td>0.015625</td>\n",
              "      <td>0.000380</td>\n",
              "      <td>1.996827</td>\n",
              "    </tr>\n",
              "  </tbody>\n",
              "</table>\n",
              "</div>\n",
              "      <button class=\"colab-df-convert\" onclick=\"convertToInteractive('df-e6a5ce5d-ddc7-473d-ac56-26d9a7a80ab7')\"\n",
              "              title=\"Convert this dataframe to an interactive table.\"\n",
              "              style=\"display:none;\">\n",
              "        \n",
              "  <svg xmlns=\"http://www.w3.org/2000/svg\" height=\"24px\"viewBox=\"0 0 24 24\"\n",
              "       width=\"24px\">\n",
              "    <path d=\"M0 0h24v24H0V0z\" fill=\"none\"/>\n",
              "    <path d=\"M18.56 5.44l.94 2.06.94-2.06 2.06-.94-2.06-.94-.94-2.06-.94 2.06-2.06.94zm-11 1L8.5 8.5l.94-2.06 2.06-.94-2.06-.94L8.5 2.5l-.94 2.06-2.06.94zm10 10l.94 2.06.94-2.06 2.06-.94-2.06-.94-.94-2.06-.94 2.06-2.06.94z\"/><path d=\"M17.41 7.96l-1.37-1.37c-.4-.4-.92-.59-1.43-.59-.52 0-1.04.2-1.43.59L10.3 9.45l-7.72 7.72c-.78.78-.78 2.05 0 2.83L4 21.41c.39.39.9.59 1.41.59.51 0 1.02-.2 1.41-.59l7.78-7.78 2.81-2.81c.8-.78.8-2.07 0-2.86zM5.41 20L4 18.59l7.72-7.72 1.47 1.35L5.41 20z\"/>\n",
              "  </svg>\n",
              "      </button>\n",
              "      \n",
              "  <style>\n",
              "    .colab-df-container {\n",
              "      display:flex;\n",
              "      flex-wrap:wrap;\n",
              "      gap: 12px;\n",
              "    }\n",
              "\n",
              "    .colab-df-convert {\n",
              "      background-color: #E8F0FE;\n",
              "      border: none;\n",
              "      border-radius: 50%;\n",
              "      cursor: pointer;\n",
              "      display: none;\n",
              "      fill: #1967D2;\n",
              "      height: 32px;\n",
              "      padding: 0 0 0 0;\n",
              "      width: 32px;\n",
              "    }\n",
              "\n",
              "    .colab-df-convert:hover {\n",
              "      background-color: #E2EBFA;\n",
              "      box-shadow: 0px 1px 2px rgba(60, 64, 67, 0.3), 0px 1px 3px 1px rgba(60, 64, 67, 0.15);\n",
              "      fill: #174EA6;\n",
              "    }\n",
              "\n",
              "    [theme=dark] .colab-df-convert {\n",
              "      background-color: #3B4455;\n",
              "      fill: #D2E3FC;\n",
              "    }\n",
              "\n",
              "    [theme=dark] .colab-df-convert:hover {\n",
              "      background-color: #434B5C;\n",
              "      box-shadow: 0px 1px 3px 1px rgba(0, 0, 0, 0.15);\n",
              "      filter: drop-shadow(0px 1px 2px rgba(0, 0, 0, 0.3));\n",
              "      fill: #FFFFFF;\n",
              "    }\n",
              "  </style>\n",
              "\n",
              "      <script>\n",
              "        const buttonEl =\n",
              "          document.querySelector('#df-e6a5ce5d-ddc7-473d-ac56-26d9a7a80ab7 button.colab-df-convert');\n",
              "        buttonEl.style.display =\n",
              "          google.colab.kernel.accessAllowed ? 'block' : 'none';\n",
              "\n",
              "        async function convertToInteractive(key) {\n",
              "          const element = document.querySelector('#df-e6a5ce5d-ddc7-473d-ac56-26d9a7a80ab7');\n",
              "          const dataTable =\n",
              "            await google.colab.kernel.invokeFunction('convertToInteractive',\n",
              "                                                     [key], {});\n",
              "          if (!dataTable) return;\n",
              "\n",
              "          const docLinkHtml = 'Like what you see? Visit the ' +\n",
              "            '<a target=\"_blank\" href=https://colab.research.google.com/notebooks/data_table.ipynb>data table notebook</a>'\n",
              "            + ' to learn more about interactive tables.';\n",
              "          element.innerHTML = '';\n",
              "          dataTable['output_type'] = 'display_data';\n",
              "          await google.colab.output.renderOutput(dataTable, element);\n",
              "          const docLink = document.createElement('div');\n",
              "          docLink.innerHTML = docLinkHtml;\n",
              "          element.appendChild(docLink);\n",
              "        }\n",
              "      </script>\n",
              "    </div>\n",
              "  </div>\n",
              "  "
            ]
          },
          "metadata": {},
          "execution_count": 70
        }
      ]
    },
    {
      "cell_type": "code",
      "source": [
        "##Gráficas loglog\n",
        "plt.loglog(hs,errorh)\n",
        "plt.xlabel('h')\n",
        "plt.ylabel('Eh')\n",
        "plt.show()"
      ],
      "metadata": {
        "colab": {
          "base_uri": "https://localhost:8080/",
          "height": 283
        },
        "id": "6y4jARdhxfUo",
        "outputId": "5572fa30-499f-4321-8a23-5030e4d88693"
      },
      "execution_count": 71,
      "outputs": [
        {
          "output_type": "display_data",
          "data": {
            "text/plain": [
              "<Figure size 432x288 with 1 Axes>"
            ],
            "image/png": "[encoded data removed]"
          },
          "metadata": {
            "needs_background": "light"
          }
        }
      ]
    }
  ]
}