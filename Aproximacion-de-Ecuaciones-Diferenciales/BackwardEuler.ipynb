{
  "nbformat": 4,
  "nbformat_minor": 0,
  "metadata": {
    "colab": {
      "provenance": [],
      "collapsed_sections": []
    },
    "kernelspec": {
      "name": "python3",
      "display_name": "Python 3"
    },
    "language_info": {
      "name": "python"
    }
  },
  "cells": [
    {
      "cell_type": "markdown",
      "source": [
        "#Backward Euler\n",
        "Método Euler hacia atrás para aproximación numérica de ecuaciones diferenciales"
      ],
      "metadata": {
        "id": "24O81SPA1Rl7"
      }
    },
    {
      "cell_type": "code",
      "execution_count": 22,
      "metadata": {
        "id": "pzpUEQPt6XUL"
      },
      "outputs": [],
      "source": [
        "import math\n",
        "from math import cos, sin, e, log\n",
        "import numpy as np\n",
        "import pandas as pd\n",
        "import sympy as sp\n",
        "from sympy import * \n",
        "import matplotlib.pyplot as plt\n",
        "import scipy as sip\n",
        "from scipy import integrate\n",
        "from scipy.sparse import spdiags"
      ]
    },
    {
      "cell_type": "markdown",
      "source": [
        "**Sistema de Ecuaciones**\n",
        "$\\left\\{ \\begin{array}{lcc}\n",
        "             y_1'= 9y_1+24y_2+5cost-\\frac{1}{3}sint & t\\in [0,1] \n",
        "             \\\\ y_2'= -24y_1-51y_2-9cost+\\frac{1}{3}sint & t \\in [0,1] \n",
        "             \\\\ y_1(0)= \\frac{4}{3}, \\;\\;\\; y_2(0)=\\frac{2}{3} \n",
        "             \\end{array}\n",
        "   \\right.$"
      ],
      "metadata": {
        "id": "r-QRk3IS6bVO"
      }
    },
    {
      "cell_type": "code",
      "source": [
        "##Sistema de ecuaciones\n",
        "def function1(t, y1, y2):\n",
        "  return 9*y1+24*y2+5*cos(t)-1/3*sin(t)\n",
        "def function2(t, y1, y2):\n",
        "  return -24*y1-51*y2-9*cos(t)+1/3*sin(t)"
      ],
      "metadata": {
        "id": "e2SEyBJr6ZNQ"
      },
      "execution_count": 23,
      "outputs": []
    },
    {
      "cell_type": "markdown",
      "source": [
        "**Solución al PVI** $\\left\\{ \\begin{array}{lcc}\n",
        "             y_1 = 2e^{-3t}-e^{-39t}+\\frac{1}{3}cos(t) & t\\in [0,1] \n",
        "             \\\\ y_2= -e^{-3t}+2e^{-39t}-\\frac{1}{3}cos(t) & t \\in [0,1] \n",
        "             \\end{array}\n",
        "   \\right.$"
      ],
      "metadata": {
        "id": "VNqH9Or3sak2"
      }
    },
    {
      "cell_type": "code",
      "source": [
        "#Soluciones\n",
        "def sol1(t):\n",
        "  return 2*e**(-3*t)-e**(-39*t)+(1/3)*cos(t)\n",
        "def sol2(t):\n",
        "  return (-1)*e**(-3*t)+2*e**(-39*t)-(1/3)*cos(t)\n",
        "def sol3(x,ep):\n",
        "  return 1+x+(e**(x/ep)-1)/(e**(1/ep)-1)"
      ],
      "metadata": {
        "id": "pHAmcbak6hD_"
      },
      "execution_count": 5,
      "outputs": []
    },
    {
      "cell_type": "markdown",
      "source": [
        "![image.png](data:image/png;base64,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)\n"
      ],
      "metadata": {
        "id": "1CXgK59C2F_3"
      }
    },
    {
      "cell_type": "code",
      "source": [
        "#EULER IMPLÍCITO \n",
        "t,y1,y2,y1j,y2j= symbols('t,y1,y2,y1j,y2j')\n",
        "def BEuler(f1,f2,a,b,y10,y20,M):\n",
        "  h = (b-a)/M\n",
        "  X = np.zeros(M+1)\n",
        "  Y1 = np.zeros(M+1)\n",
        "  Y2 = np.zeros(M+1)\n",
        "  Y1[0] = y10\n",
        "  Y2[0] = y20\n",
        "  X[0] = a\n",
        "\n",
        "  f2x= y2j - y2 - h*f2(t,y1j,y2j)\n",
        "  f2x= solve(f2x,y2j)[0]\n",
        "\n",
        "  f1x= y1j - y1 - h*f1(t,y1j,y2j)\n",
        "  f1x= solve(f1x.subs(y2j,f2x),y1j)[0]\n",
        "\n",
        "\n",
        "  i=0\n",
        "  while i<M:\n",
        "    X[i+1]= X[i]+h\n",
        "    Y1[i+1]= f1x.subs(t,X[i+1]).subs(y1,Y1[i]).subs(y2,Y2[i]) \n",
        "    Y2[i+1]= f2x.subs(t,X[i+1]).subs(y1j,Y1[i+1]).subs(y2,Y2[i]) \n",
        "    i=i+1\n",
        "  return X, Y1, Y2"
      ],
      "metadata": {
        "id": "wUn1-xPv6pI0"
      },
      "execution_count": 26,
      "outputs": []
    },
    {
      "cell_type": "code",
      "source": [
        "#Gráficar\n",
        "\n",
        "#Solución real:\n",
        "\n",
        "x = np.linspace(0,1,1000)\n",
        "y1real = np.zeros(len(x))\n",
        "y2real = np.zeros(len(x))\n",
        "Xp, Y1p, Y2p= BEuler(function1,function2,0,1,4/3,2/3,2)\n",
        "Xs, Y1s, Y2s= BEuler(function1,function2,0,1,4/3,2/3,4)\n",
        "Xt, Y1t, Y2t= BEuler(function1,function2,0,1,4/3,2/3,8)\n",
        "Xc, Y1c, Y2c= BEuler(function1,function2,0,1,4/3,2/3,16)\n",
        "Xq, Y1q, Y2q = BEuler(function1,function2,0,1,4/3,2/3,32)\n",
        "Xo, Y1o, Y2o= BEuler(function1,function2,0,1,4/3,2/3,64)\n",
        "\n",
        "for i in range(len(x)):\n",
        "  y1real[i] = sol1(x[i])\n",
        "  y2real[i] = sol2(x[i])\n",
        "\n",
        "fig = plt.figure()\n",
        "ax = fig.add_subplot(1, 1, 1)\n",
        "\n",
        "\n",
        "# plot the function\n",
        "plt.plot(x,y1real, 'C1')\n",
        "plt.title('Solución real de y1 vs solución numérica variando h')\n",
        "plt.xlabel('x')\n",
        "plt.ylabel('u')\n",
        "plt.plot(Xp,Y1p, 'r')\n",
        "plt.plot(Xs,Y1s, 'm')\n",
        "plt.plot(Xt,Y1t, 'b')\n",
        "plt.plot(Xc,Y1c, 'c')\n",
        "plt.plot(Xq,Y1q, 'C6')\n",
        "plt.plot(Xo,Y1o, 'k')\n",
        "plt.ylim(top = 3, bottom = -2)\n",
        "plt.legend([\"Real\", \"h = \"+ str(2**(-1)), \"h = \"+ str(2**(-2)), \"h = \"+ str(2**(-3)), \"h = \"+ str(2**(-4)),\"h = \"+ str(2**(-5)) ,\"h = \"+ str(2**(-5))], loc =\"lower left\")\n",
        "plt.show()\n",
        "\n",
        "plt.plot(x,y2real, 'C1')\n",
        "plt.title('Solución real de y2 vs solución numérica variando h')\n",
        "plt.xlabel('x')\n",
        "plt.ylabel('u')\n",
        "plt.plot(Xp,Y2p, 'r')\n",
        "plt.plot(Xs,Y2s, 'm')\n",
        "plt.plot(Xt,Y2t, 'b')\n",
        "plt.plot(Xc,Y2c, 'c')\n",
        "plt.plot(Xq,Y2q, 'C6')\n",
        "plt.plot(Xo,Y2o, 'k')\n",
        "plt.ylim(top = 3, bottom = -2)\n",
        "plt.legend([\"Real\", \"h = \"+ str(2**(-1)), \"h = \"+ str(2**(-2)), \"h = \"+ str(2**(-3)), \"h = \"+ str(2**(-4)),\"h = \"+ str(2**(-5)) ,\"h = \"+ str(2**(-5))], loc =\"upper right\")\n",
        "plt.show() "
      ],
      "metadata": {
        "colab": {
          "base_uri": "https://localhost:8080/",
          "height": 573
        },
        "id": "Tbqb2ZT8ru45",
        "outputId": "340db6b9-2ec2-4aa0-ad46-ff44e5da0100"
      },
      "execution_count": 27,
      "outputs": [
        {
          "output_type": "display_data",
          "data": {
            "text/plain": [
              "<Figure size 432x288 with 1 Axes>"
            ],
            "image/png": "[encoded data removed]"
          },
          "metadata": {
            "needs_background": "light"
          }
        },
        {
          "output_type": "display_data",
          "data": {
            "text/plain": [
              "<Figure size 432x288 with 1 Axes>"
            ],
            "image/png": "[encoded data removed]"
          },
          "metadata": {
            "needs_background": "light"
          }
        }
      ]
    },
    {
      "cell_type": "code",
      "source": [
        "#Calcular error\n",
        "def error(fun1, fun2,sol1, sol2,a,b,y10,y20,M):\n",
        "  Error1= np.zeros(M+1)\n",
        "  Error2= np.zeros(M+1)\n",
        "  h = (a-b)/M\n",
        "  X, Y1, Y2 = BEuler(fun1, fun2, a, b, y10, y20, M)\n",
        "  Datos=[]\n",
        "  i = 0\n",
        "  while i<=M:\n",
        "    Error1[i] = abs(Y1[i]-sol1(X[i]))\n",
        "    Error2[i] = abs(Y2[i]-sol2(X[i]))\n",
        "    Datos.append([X[i],Y1[i],Error1[i],Y2[i],Error2[i]])\n",
        "    i = i+1\n",
        "  Datos = pd.DataFrame(Datos).set_axis(['X','Y1','Error Y1','Y2','Error Y2'], axis=1)\n",
        "  ## Error\n",
        "  error = 0\n",
        "  for i in range(1,M+1):\n",
        "    l1i = lambda x: Y1[i-1]+((x-X[i-1])/h)*(Y1[i]-Y1[i-1])\n",
        "    l2i =  lambda x: Y2[i-1]+((x-X[i-1])/h)*(Y2[i]-Y2[i-1])\n",
        "    integrando = lambda x: (sol1(x)-l1i(x))**2 + (sol2(x)-l2i(x))**2\n",
        "    integral= integrate.quad(integrando, X[i-1], X[i])\n",
        "    error = error + integral[0]\n",
        "  error = sqrt(error)\n",
        "  return error"
      ],
      "metadata": {
        "id": "GH2y9_-ZrvT3"
      },
      "execution_count": 28,
      "outputs": []
    },
    {
      "cell_type": "code",
      "source": [
        "def alpha():\n",
        "  Errorh = np.zeros(6)\n",
        "  hs = np.zeros(6)\n",
        "  alphas = np.zeros(6)\n",
        "  Datos = []\n",
        "  M = 2\n",
        "  Errorh[0] = error(function1,function2,sol1,sol2,0,1,4/3,2/3,M)\n",
        "  hs[0] = 1/M\n",
        "  Datos.append([hs[0],Errorh[0],nan])\n",
        "  for i in range(1,6):\n",
        "    M=M*2\n",
        "    h = 1/M\n",
        "    Errorh[i] = error(function1,function2,sol1,sol2,0,1,4/3,2/3,M)\n",
        "    hs[i] = h\n",
        "    alphas[i] = log(Errorh[i]/Errorh[i-1])/log(hs[i]/hs[i-1])\n",
        "    Datos.append([hs[i],Errorh[i],alphas[i]])\n",
        "  Datos = pd.DataFrame(Datos).set_axis(['h','Eh','alpha'], axis=1) \n",
        "  return Datos,Errorh, hs"
      ],
      "metadata": {
        "id": "OV182rndvs8F"
      },
      "execution_count": 29,
      "outputs": []
    },
    {
      "cell_type": "code",
      "source": [
        "Datos, errorh, hs = alpha()\n",
        "Datos"
      ],
      "metadata": {
        "colab": {
          "base_uri": "https://localhost:8080/",
          "height": 238
        },
        "id": "ILuQcoyBxaFv",
        "outputId": "4d7078a1-9a3c-4461-bec4-1566f64e8210"
      },
      "execution_count": 30,
      "outputs": [
        {
          "output_type": "execute_result",
          "data": {
            "text/plain": [
              "          h        Eh     alpha\n",
              "0  0.500000  1.648463       nan\n",
              "1  0.250000  1.253517   0.39514\n",
              "2  0.125000  0.886243  0.500208\n",
              "3  0.062500  0.567733   0.64249\n",
              "4  0.031250  0.330886  0.778878\n",
              "5  0.015625  0.180772  0.872161"
            ],
            "text/html": [
              "\n",
              "  <div id=\"df-16441ebf-6c58-428c-90ab-8ded3c0a4f90\">\n",
              "    <div class=\"colab-df-container\">\n",
              "      <div>\n",
              "<style scoped>\n",
              "    .dataframe tbody tr th:only-of-type {\n",
              "        vertical-align: middle;\n",
              "    }\n",
              "\n",
              "    .dataframe tbody tr th {\n",
              "        vertical-align: top;\n",
              "    }\n",
              "\n",
              "    .dataframe thead th {\n",
              "        text-align: right;\n",
              "    }\n",
              "</style>\n",
              "<table border=\"1\" class=\"dataframe\">\n",
              "  <thead>\n",
              "    <tr style=\"text-align: right;\">\n",
              "      <th></th>\n",
              "      <th>h</th>\n",
              "      <th>Eh</th>\n",
              "      <th>alpha</th>\n",
              "    </tr>\n",
              "  </thead>\n",
              "  <tbody>\n",
              "    <tr>\n",
              "      <th>0</th>\n",
              "      <td>0.500000</td>\n",
              "      <td>1.648463</td>\n",
              "      <td>nan</td>\n",
              "    </tr>\n",
              "    <tr>\n",
              "      <th>1</th>\n",
              "      <td>0.250000</td>\n",
              "      <td>1.253517</td>\n",
              "      <td>0.39514</td>\n",
              "    </tr>\n",
              "    <tr>\n",
              "      <th>2</th>\n",
              "      <td>0.125000</td>\n",
              "      <td>0.886243</td>\n",
              "      <td>0.500208</td>\n",
              "    </tr>\n",
              "    <tr>\n",
              "      <th>3</th>\n",
              "      <td>0.062500</td>\n",
              "      <td>0.567733</td>\n",
              "      <td>0.64249</td>\n",
              "    </tr>\n",
              "    <tr>\n",
              "      <th>4</th>\n",
              "      <td>0.031250</td>\n",
              "      <td>0.330886</td>\n",
              "      <td>0.778878</td>\n",
              "    </tr>\n",
              "    <tr>\n",
              "      <th>5</th>\n",
              "      <td>0.015625</td>\n",
              "      <td>0.180772</td>\n",
              "      <td>0.872161</td>\n",
              "    </tr>\n",
              "  </tbody>\n",
              "</table>\n",
              "</div>\n",
              "      <button class=\"colab-df-convert\" onclick=\"convertToInteractive('df-16441ebf-6c58-428c-90ab-8ded3c0a4f90')\"\n",
              "              title=\"Convert this dataframe to an interactive table.\"\n",
              "              style=\"display:none;\">\n",
              "        \n",
              "  <svg xmlns=\"http://www.w3.org/2000/svg\" height=\"24px\"viewBox=\"0 0 24 24\"\n",
              "       width=\"24px\">\n",
              "    <path d=\"M0 0h24v24H0V0z\" fill=\"none\"/>\n",
              "    <path d=\"M18.56 5.44l.94 2.06.94-2.06 2.06-.94-2.06-.94-.94-2.06-.94 2.06-2.06.94zm-11 1L8.5 8.5l.94-2.06 2.06-.94-2.06-.94L8.5 2.5l-.94 2.06-2.06.94zm10 10l.94 2.06.94-2.06 2.06-.94-2.06-.94-.94-2.06-.94 2.06-2.06.94z\"/><path d=\"M17.41 7.96l-1.37-1.37c-.4-.4-.92-.59-1.43-.59-.52 0-1.04.2-1.43.59L10.3 9.45l-7.72 7.72c-.78.78-.78 2.05 0 2.83L4 21.41c.39.39.9.59 1.41.59.51 0 1.02-.2 1.41-.59l7.78-7.78 2.81-2.81c.8-.78.8-2.07 0-2.86zM5.41 20L4 18.59l7.72-7.72 1.47 1.35L5.41 20z\"/>\n",
              "  </svg>\n",
              "      </button>\n",
              "      \n",
              "  <style>\n",
              "    .colab-df-container {\n",
              "      display:flex;\n",
              "      flex-wrap:wrap;\n",
              "      gap: 12px;\n",
              "    }\n",
              "\n",
              "    .colab-df-convert {\n",
              "      background-color: #E8F0FE;\n",
              "      border: none;\n",
              "      border-radius: 50%;\n",
              "      cursor: pointer;\n",
              "      display: none;\n",
              "      fill: #1967D2;\n",
              "      height: 32px;\n",
              "      padding: 0 0 0 0;\n",
              "      width: 32px;\n",
              "    }\n",
              "\n",
              "    .colab-df-convert:hover {\n",
              "      background-color: #E2EBFA;\n",
              "      box-shadow: 0px 1px 2px rgba(60, 64, 67, 0.3), 0px 1px 3px 1px rgba(60, 64, 67, 0.15);\n",
              "      fill: #174EA6;\n",
              "    }\n",
              "\n",
              "    [theme=dark] .colab-df-convert {\n",
              "      background-color: #3B4455;\n",
              "      fill: #D2E3FC;\n",
              "    }\n",
              "\n",
              "    [theme=dark] .colab-df-convert:hover {\n",
              "      background-color: #434B5C;\n",
              "      box-shadow: 0px 1px 3px 1px rgba(0, 0, 0, 0.15);\n",
              "      filter: drop-shadow(0px 1px 2px rgba(0, 0, 0, 0.3));\n",
              "      fill: #FFFFFF;\n",
              "    }\n",
              "  </style>\n",
              "\n",
              "      <script>\n",
              "        const buttonEl =\n",
              "          document.querySelector('#df-16441ebf-6c58-428c-90ab-8ded3c0a4f90 button.colab-df-convert');\n",
              "        buttonEl.style.display =\n",
              "          google.colab.kernel.accessAllowed ? 'block' : 'none';\n",
              "\n",
              "        async function convertToInteractive(key) {\n",
              "          const element = document.querySelector('#df-16441ebf-6c58-428c-90ab-8ded3c0a4f90');\n",
              "          const dataTable =\n",
              "            await google.colab.kernel.invokeFunction('convertToInteractive',\n",
              "                                                     [key], {});\n",
              "          if (!dataTable) return;\n",
              "\n",
              "          const docLinkHtml = 'Like what you see? Visit the ' +\n",
              "            '<a target=\"_blank\" href=https://colab.research.google.com/notebooks/data_table.ipynb>data table notebook</a>'\n",
              "            + ' to learn more about interactive tables.';\n",
              "          element.innerHTML = '';\n",
              "          dataTable['output_type'] = 'display_data';\n",
              "          await google.colab.output.renderOutput(dataTable, element);\n",
              "          const docLink = document.createElement('div');\n",
              "          docLink.innerHTML = docLinkHtml;\n",
              "          element.appendChild(docLink);\n",
              "        }\n",
              "      </script>\n",
              "    </div>\n",
              "  </div>\n",
              "  "
            ]
          },
          "metadata": {},
          "execution_count": 30
        }
      ]
    },
    {
      "cell_type": "code",
      "source": [
        "##Gráficas loglog\n",
        "plt.loglog(hs,errorh)\n",
        "plt.xlabel('h')\n",
        "plt.ylabel('Eh')\n",
        "plt.show()"
      ],
      "metadata": {
        "colab": {
          "base_uri": "https://localhost:8080/",
          "height": 283
        },
        "id": "6y4jARdhxfUo",
        "outputId": "12f4aaef-1c94-41c5-f272-0dd3a0353913"
      },
      "execution_count": 25,
      "outputs": [
        {
          "output_type": "display_data",
          "data": {
            "text/plain": [
              "<Figure size 432x288 with 1 Axes>"
            ],
            "image/png": "[encoded data removed]"
          },
          "metadata": {
            "needs_background": "light"
          }
        }
      ]
    }
  ]
}